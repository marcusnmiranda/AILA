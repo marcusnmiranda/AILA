{
  "nbformat": 4,
  "nbformat_minor": 0,
  "metadata": {
    "colab": {
      "provenance": [],
      "authorship_tag": "ABX9TyNEUjaIQm+3DumZr8db3u/l",
      "include_colab_link": true
    },
    "kernelspec": {
      "name": "python3",
      "display_name": "Python 3"
    },
    "language_info": {
      "name": "python"
    }
  },
  "cells": [
    {
      "cell_type": "markdown",
      "metadata": {
        "id": "view-in-github",
        "colab_type": "text"
      },
      "source": [
        "<a href=\"https://colab.research.google.com/github/marcusnmiranda/AILA/blob/main/Simula%C3%A7%C3%A3o_de_Monte_Carlos.ipynb\" target=\"_parent\"><img src=\"https://colab.research.google.com/assets/colab-badge.svg\" alt=\"Open In Colab\"/></a>"
      ]
    },
    {
      "cell_type": "code",
      "execution_count": null,
      "metadata": {
        "colab": {
          "base_uri": "https://localhost:8080/"
        },
        "id": "Cm5UVFU-NWZ3",
        "outputId": "39949120-2369-4ca7-ed7b-7f9d37073312"
      },
      "outputs": [
        {
          "output_type": "execute_result",
          "data": {
            "text/plain": [
              "(129.90531160941072, 147.09204778387127, 112.14719664623452)"
            ]
          },
          "metadata": {},
          "execution_count": 1
        }
      ],
      "source": [
        "import numpy as np\n",
        "\n",
        "# Parâmetros do projeto\n",
        "dias_planejamento = 30\n",
        "incerteza_planejamento = 5\n",
        "dias_desenvolvimento = 60\n",
        "incerteza_desenvolvimento = 10\n",
        "dias_implementacao = 40\n",
        "incerteza_implementacao = 8\n",
        "\n",
        "# Número de simulações\n",
        "num_simulacoes = 1000\n",
        "\n",
        "# Inicializando a lista para armazenar os resultados de cada simulação\n",
        "duracoes_totais = []\n",
        "\n",
        "# Simulação de Monte Carlo\n",
        "for _ in range(num_simulacoes):\n",
        "    # Simulando a duração de cada fase\n",
        "    duracao_planejamento = np.random.normal(dias_planejamento, incerteza_planejamento)\n",
        "    duracao_desenvolvimento = np.random.normal(dias_desenvolvimento, incerteza_desenvolvimento)\n",
        "    duracao_implementacao = np.random.normal(dias_implementacao, incerteza_implementacao)\n",
        "\n",
        "    # Calculando a duração total do projeto para esta simulação\n",
        "    duracao_total = duracao_planejamento + duracao_desenvolvimento + duracao_implementacao\n",
        "    duracoes_totais.append(duracao_total)\n",
        "\n",
        "# Convertendo a lista em um array numpy para facilitar a análise\n",
        "duracoes_totais = np.array(duracoes_totais)\n",
        "\n",
        "# Calculando estatísticas\n",
        "duracao_media = np.mean(duracoes_totais)\n",
        "percentil_90 = np.percentile(duracoes_totais, 90)\n",
        "percentil_10 = np.percentile(duracoes_totais, 10)\n",
        "\n",
        "duracao_media, percentil_90, percentil_10\n",
        "\n"
      ]
    }
  ]
}