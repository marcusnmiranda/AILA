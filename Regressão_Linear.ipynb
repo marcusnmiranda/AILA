{
  "cells": [
    {
      "cell_type": "markdown",
      "metadata": {
        "id": "view-in-github",
        "colab_type": "text"
      },
      "source": [
        "<a href=\"https://colab.research.google.com/github/marcusnmiranda/AILA/blob/main/Regress%C3%A3o_Linear.ipynb\" target=\"_parent\"><img src=\"https://colab.research.google.com/assets/colab-badge.svg\" alt=\"Open In Colab\"/></a>"
      ]
    },
    {
      "cell_type": "markdown",
      "id": "af2542b4",
      "metadata": {
        "id": "af2542b4"
      },
      "source": [
        "\n",
        "# Regressão Linear Simples em Python\n",
        "\n",
        "Este notebook demonstra como usar regressão linear para prever a satisfação do cliente com base em diversos fatores.\n",
        "\n"
      ]
    },
    {
      "cell_type": "markdown",
      "source": [
        "## Importando Bibliotecas\n"
      ],
      "metadata": {
        "id": "hxUPtNYt14y2"
      },
      "id": "hxUPtNYt14y2"
    },
    {
      "cell_type": "code",
      "source": [
        "import numpy as np\n",
        "import pandas as pd\n",
        "import matplotlib.pyplot as plt\n",
        "from sklearn.linear_model import LinearRegression\n",
        "from sklearn.model_selection import train_test_split\n",
        "from sklearn.metrics import mean_squared_error"
      ],
      "metadata": {
        "id": "-Y3jli1R1457"
      },
      "id": "-Y3jli1R1457",
      "execution_count": 9,
      "outputs": []
    },
    {
      "cell_type": "markdown",
      "source": [
        "\n",
        "1. **numpy (np)**: Biblioteca para operações matemáticas e de matriz.\n",
        "2. **pandas (pd)**: Biblioteca para manipulação e análise de dados, especialmente com tabelas de dados (DataFrames).\n",
        "3. **matplotlib.pyplot (plt)**: Biblioteca para criar gráficos e visualizações.\n",
        "4. **sklearn.linear_model.LinearRegression**: Classe que permite criar um modelo de regressão linear.\n",
        "5. **sklearn.model_selection.train_test_split**: Função para dividir o conjunto de dados em treino e teste.\n",
        "6. **sklearn.metrics.mean_squared_error**: Função para calcular o erro quadrático médio, uma medida de quão bem o modelo está se saindo."
      ],
      "metadata": {
        "id": "RktnWcwM15Bq"
      },
      "id": "RktnWcwM15Bq"
    },
    {
      "cell_type": "markdown",
      "source": [
        "## Criando o Conjunto de Dados\n"
      ],
      "metadata": {
        "id": "cUbJtBSY1uBV"
      },
      "id": "cUbJtBSY1uBV"
    },
    {
      "cell_type": "code",
      "source": [
        "data = {\n",
        "    'Comunicacao': [3, 4, 5, 3, 4, 5, 6, 7, 6, 5],\n",
        "    'Complexidade_Tecnica': [7, 8, 6, 9, 5, 7, 8, 6, 9, 7],\n",
        "    'Inovacao': [5, 4, 3, 4, 5, 6, 5, 4, 3, 4],\n",
        "    'Revisoes': [1, 2, 3, 1, 2, 3, 4, 3, 2, 1],\n",
        "    'Satisfacao_Cliente': [75, 80, 85, 70, 80, 90, 95, 85, 80, 75]\n",
        "}\n",
        "\n",
        "df = pd.DataFrame(data)\n",
        "df"
      ],
      "metadata": {
        "colab": {
          "base_uri": "https://localhost:8080/",
          "height": 363
        },
        "id": "7pI7-4Ma1uIs",
        "outputId": "ff1148c9-ad21-4d9f-87ea-5b5a1a47c8b4"
      },
      "id": "7pI7-4Ma1uIs",
      "execution_count": 17,
      "outputs": [
        {
          "output_type": "execute_result",
          "data": {
            "text/plain": [
              "   Comunicacao  Complexidade_Tecnica  Inovacao  Revisoes  Satisfacao_Cliente\n",
              "0            3                     7         5         1                  75\n",
              "1            4                     8         4         2                  80\n",
              "2            5                     6         3         3                  85\n",
              "3            3                     9         4         1                  70\n",
              "4            4                     5         5         2                  80\n",
              "5            5                     7         6         3                  90\n",
              "6            6                     8         5         4                  95\n",
              "7            7                     6         4         3                  85\n",
              "8            6                     9         3         2                  80\n",
              "9            5                     7         4         1                  75"
            ],
            "text/html": [
              "\n",
              "  <div id=\"df-5b84f7c1-b30a-41b3-8d0a-db38fbca06fc\" class=\"colab-df-container\">\n",
              "    <div>\n",
              "<style scoped>\n",
              "    .dataframe tbody tr th:only-of-type {\n",
              "        vertical-align: middle;\n",
              "    }\n",
              "\n",
              "    .dataframe tbody tr th {\n",
              "        vertical-align: top;\n",
              "    }\n",
              "\n",
              "    .dataframe thead th {\n",
              "        text-align: right;\n",
              "    }\n",
              "</style>\n",
              "<table border=\"1\" class=\"dataframe\">\n",
              "  <thead>\n",
              "    <tr style=\"text-align: right;\">\n",
              "      <th></th>\n",
              "      <th>Comunicacao</th>\n",
              "      <th>Complexidade_Tecnica</th>\n",
              "      <th>Inovacao</th>\n",
              "      <th>Revisoes</th>\n",
              "      <th>Satisfacao_Cliente</th>\n",
              "    </tr>\n",
              "  </thead>\n",
              "  <tbody>\n",
              "    <tr>\n",
              "      <th>0</th>\n",
              "      <td>3</td>\n",
              "      <td>7</td>\n",
              "      <td>5</td>\n",
              "      <td>1</td>\n",
              "      <td>75</td>\n",
              "    </tr>\n",
              "    <tr>\n",
              "      <th>1</th>\n",
              "      <td>4</td>\n",
              "      <td>8</td>\n",
              "      <td>4</td>\n",
              "      <td>2</td>\n",
              "      <td>80</td>\n",
              "    </tr>\n",
              "    <tr>\n",
              "      <th>2</th>\n",
              "      <td>5</td>\n",
              "      <td>6</td>\n",
              "      <td>3</td>\n",
              "      <td>3</td>\n",
              "      <td>85</td>\n",
              "    </tr>\n",
              "    <tr>\n",
              "      <th>3</th>\n",
              "      <td>3</td>\n",
              "      <td>9</td>\n",
              "      <td>4</td>\n",
              "      <td>1</td>\n",
              "      <td>70</td>\n",
              "    </tr>\n",
              "    <tr>\n",
              "      <th>4</th>\n",
              "      <td>4</td>\n",
              "      <td>5</td>\n",
              "      <td>5</td>\n",
              "      <td>2</td>\n",
              "      <td>80</td>\n",
              "    </tr>\n",
              "    <tr>\n",
              "      <th>5</th>\n",
              "      <td>5</td>\n",
              "      <td>7</td>\n",
              "      <td>6</td>\n",
              "      <td>3</td>\n",
              "      <td>90</td>\n",
              "    </tr>\n",
              "    <tr>\n",
              "      <th>6</th>\n",
              "      <td>6</td>\n",
              "      <td>8</td>\n",
              "      <td>5</td>\n",
              "      <td>4</td>\n",
              "      <td>95</td>\n",
              "    </tr>\n",
              "    <tr>\n",
              "      <th>7</th>\n",
              "      <td>7</td>\n",
              "      <td>6</td>\n",
              "      <td>4</td>\n",
              "      <td>3</td>\n",
              "      <td>85</td>\n",
              "    </tr>\n",
              "    <tr>\n",
              "      <th>8</th>\n",
              "      <td>6</td>\n",
              "      <td>9</td>\n",
              "      <td>3</td>\n",
              "      <td>2</td>\n",
              "      <td>80</td>\n",
              "    </tr>\n",
              "    <tr>\n",
              "      <th>9</th>\n",
              "      <td>5</td>\n",
              "      <td>7</td>\n",
              "      <td>4</td>\n",
              "      <td>1</td>\n",
              "      <td>75</td>\n",
              "    </tr>\n",
              "  </tbody>\n",
              "</table>\n",
              "</div>\n",
              "    <div class=\"colab-df-buttons\">\n",
              "\n",
              "  <div class=\"colab-df-container\">\n",
              "    <button class=\"colab-df-convert\" onclick=\"convertToInteractive('df-5b84f7c1-b30a-41b3-8d0a-db38fbca06fc')\"\n",
              "            title=\"Convert this dataframe to an interactive table.\"\n",
              "            style=\"display:none;\">\n",
              "\n",
              "  <svg xmlns=\"http://www.w3.org/2000/svg\" height=\"24px\" viewBox=\"0 -960 960 960\">\n",
              "    <path d=\"M120-120v-720h720v720H120Zm60-500h600v-160H180v160Zm220 220h160v-160H400v160Zm0 220h160v-160H400v160ZM180-400h160v-160H180v160Zm440 0h160v-160H620v160ZM180-180h160v-160H180v160Zm440 0h160v-160H620v160Z\"/>\n",
              "  </svg>\n",
              "    </button>\n",
              "\n",
              "  <style>\n",
              "    .colab-df-container {\n",
              "      display:flex;\n",
              "      gap: 12px;\n",
              "    }\n",
              "\n",
              "    .colab-df-convert {\n",
              "      background-color: #E8F0FE;\n",
              "      border: none;\n",
              "      border-radius: 50%;\n",
              "      cursor: pointer;\n",
              "      display: none;\n",
              "      fill: #1967D2;\n",
              "      height: 32px;\n",
              "      padding: 0 0 0 0;\n",
              "      width: 32px;\n",
              "    }\n",
              "\n",
              "    .colab-df-convert:hover {\n",
              "      background-color: #E2EBFA;\n",
              "      box-shadow: 0px 1px 2px rgba(60, 64, 67, 0.3), 0px 1px 3px 1px rgba(60, 64, 67, 0.15);\n",
              "      fill: #174EA6;\n",
              "    }\n",
              "\n",
              "    .colab-df-buttons div {\n",
              "      margin-bottom: 4px;\n",
              "    }\n",
              "\n",
              "    [theme=dark] .colab-df-convert {\n",
              "      background-color: #3B4455;\n",
              "      fill: #D2E3FC;\n",
              "    }\n",
              "\n",
              "    [theme=dark] .colab-df-convert:hover {\n",
              "      background-color: #434B5C;\n",
              "      box-shadow: 0px 1px 3px 1px rgba(0, 0, 0, 0.15);\n",
              "      filter: drop-shadow(0px 1px 2px rgba(0, 0, 0, 0.3));\n",
              "      fill: #FFFFFF;\n",
              "    }\n",
              "  </style>\n",
              "\n",
              "    <script>\n",
              "      const buttonEl =\n",
              "        document.querySelector('#df-5b84f7c1-b30a-41b3-8d0a-db38fbca06fc button.colab-df-convert');\n",
              "      buttonEl.style.display =\n",
              "        google.colab.kernel.accessAllowed ? 'block' : 'none';\n",
              "\n",
              "      async function convertToInteractive(key) {\n",
              "        const element = document.querySelector('#df-5b84f7c1-b30a-41b3-8d0a-db38fbca06fc');\n",
              "        const dataTable =\n",
              "          await google.colab.kernel.invokeFunction('convertToInteractive',\n",
              "                                                    [key], {});\n",
              "        if (!dataTable) return;\n",
              "\n",
              "        const docLinkHtml = 'Like what you see? Visit the ' +\n",
              "          '<a target=\"_blank\" href=https://colab.research.google.com/notebooks/data_table.ipynb>data table notebook</a>'\n",
              "          + ' to learn more about interactive tables.';\n",
              "        element.innerHTML = '';\n",
              "        dataTable['output_type'] = 'display_data';\n",
              "        await google.colab.output.renderOutput(dataTable, element);\n",
              "        const docLink = document.createElement('div');\n",
              "        docLink.innerHTML = docLinkHtml;\n",
              "        element.appendChild(docLink);\n",
              "      }\n",
              "    </script>\n",
              "  </div>\n",
              "\n",
              "\n",
              "<div id=\"df-c36db82e-fee8-45b6-9289-5f5691f1433a\">\n",
              "  <button class=\"colab-df-quickchart\" onclick=\"quickchart('df-c36db82e-fee8-45b6-9289-5f5691f1433a')\"\n",
              "            title=\"Suggest charts\"\n",
              "            style=\"display:none;\">\n",
              "\n",
              "<svg xmlns=\"http://www.w3.org/2000/svg\" height=\"24px\"viewBox=\"0 0 24 24\"\n",
              "     width=\"24px\">\n",
              "    <g>\n",
              "        <path d=\"M19 3H5c-1.1 0-2 .9-2 2v14c0 1.1.9 2 2 2h14c1.1 0 2-.9 2-2V5c0-1.1-.9-2-2-2zM9 17H7v-7h2v7zm4 0h-2V7h2v10zm4 0h-2v-4h2v4z\"/>\n",
              "    </g>\n",
              "</svg>\n",
              "  </button>\n",
              "\n",
              "<style>\n",
              "  .colab-df-quickchart {\n",
              "      --bg-color: #E8F0FE;\n",
              "      --fill-color: #1967D2;\n",
              "      --hover-bg-color: #E2EBFA;\n",
              "      --hover-fill-color: #174EA6;\n",
              "      --disabled-fill-color: #AAA;\n",
              "      --disabled-bg-color: #DDD;\n",
              "  }\n",
              "\n",
              "  [theme=dark] .colab-df-quickchart {\n",
              "      --bg-color: #3B4455;\n",
              "      --fill-color: #D2E3FC;\n",
              "      --hover-bg-color: #434B5C;\n",
              "      --hover-fill-color: #FFFFFF;\n",
              "      --disabled-bg-color: #3B4455;\n",
              "      --disabled-fill-color: #666;\n",
              "  }\n",
              "\n",
              "  .colab-df-quickchart {\n",
              "    background-color: var(--bg-color);\n",
              "    border: none;\n",
              "    border-radius: 50%;\n",
              "    cursor: pointer;\n",
              "    display: none;\n",
              "    fill: var(--fill-color);\n",
              "    height: 32px;\n",
              "    padding: 0;\n",
              "    width: 32px;\n",
              "  }\n",
              "\n",
              "  .colab-df-quickchart:hover {\n",
              "    background-color: var(--hover-bg-color);\n",
              "    box-shadow: 0 1px 2px rgba(60, 64, 67, 0.3), 0 1px 3px 1px rgba(60, 64, 67, 0.15);\n",
              "    fill: var(--button-hover-fill-color);\n",
              "  }\n",
              "\n",
              "  .colab-df-quickchart-complete:disabled,\n",
              "  .colab-df-quickchart-complete:disabled:hover {\n",
              "    background-color: var(--disabled-bg-color);\n",
              "    fill: var(--disabled-fill-color);\n",
              "    box-shadow: none;\n",
              "  }\n",
              "\n",
              "  .colab-df-spinner {\n",
              "    border: 2px solid var(--fill-color);\n",
              "    border-color: transparent;\n",
              "    border-bottom-color: var(--fill-color);\n",
              "    animation:\n",
              "      spin 1s steps(1) infinite;\n",
              "  }\n",
              "\n",
              "  @keyframes spin {\n",
              "    0% {\n",
              "      border-color: transparent;\n",
              "      border-bottom-color: var(--fill-color);\n",
              "      border-left-color: var(--fill-color);\n",
              "    }\n",
              "    20% {\n",
              "      border-color: transparent;\n",
              "      border-left-color: var(--fill-color);\n",
              "      border-top-color: var(--fill-color);\n",
              "    }\n",
              "    30% {\n",
              "      border-color: transparent;\n",
              "      border-left-color: var(--fill-color);\n",
              "      border-top-color: var(--fill-color);\n",
              "      border-right-color: var(--fill-color);\n",
              "    }\n",
              "    40% {\n",
              "      border-color: transparent;\n",
              "      border-right-color: var(--fill-color);\n",
              "      border-top-color: var(--fill-color);\n",
              "    }\n",
              "    60% {\n",
              "      border-color: transparent;\n",
              "      border-right-color: var(--fill-color);\n",
              "    }\n",
              "    80% {\n",
              "      border-color: transparent;\n",
              "      border-right-color: var(--fill-color);\n",
              "      border-bottom-color: var(--fill-color);\n",
              "    }\n",
              "    90% {\n",
              "      border-color: transparent;\n",
              "      border-bottom-color: var(--fill-color);\n",
              "    }\n",
              "  }\n",
              "</style>\n",
              "\n",
              "  <script>\n",
              "    async function quickchart(key) {\n",
              "      const quickchartButtonEl =\n",
              "        document.querySelector('#' + key + ' button');\n",
              "      quickchartButtonEl.disabled = true;  // To prevent multiple clicks.\n",
              "      quickchartButtonEl.classList.add('colab-df-spinner');\n",
              "      try {\n",
              "        const charts = await google.colab.kernel.invokeFunction(\n",
              "            'suggestCharts', [key], {});\n",
              "      } catch (error) {\n",
              "        console.error('Error during call to suggestCharts:', error);\n",
              "      }\n",
              "      quickchartButtonEl.classList.remove('colab-df-spinner');\n",
              "      quickchartButtonEl.classList.add('colab-df-quickchart-complete');\n",
              "    }\n",
              "    (() => {\n",
              "      let quickchartButtonEl =\n",
              "        document.querySelector('#df-c36db82e-fee8-45b6-9289-5f5691f1433a button');\n",
              "      quickchartButtonEl.style.display =\n",
              "        google.colab.kernel.accessAllowed ? 'block' : 'none';\n",
              "    })();\n",
              "  </script>\n",
              "</div>\n",
              "\n",
              "  <div id=\"id_83722e98-dfaa-4576-a78b-4cde10fc429e\">\n",
              "    <style>\n",
              "      .colab-df-generate {\n",
              "        background-color: #E8F0FE;\n",
              "        border: none;\n",
              "        border-radius: 50%;\n",
              "        cursor: pointer;\n",
              "        display: none;\n",
              "        fill: #1967D2;\n",
              "        height: 32px;\n",
              "        padding: 0 0 0 0;\n",
              "        width: 32px;\n",
              "      }\n",
              "\n",
              "      .colab-df-generate:hover {\n",
              "        background-color: #E2EBFA;\n",
              "        box-shadow: 0px 1px 2px rgba(60, 64, 67, 0.3), 0px 1px 3px 1px rgba(60, 64, 67, 0.15);\n",
              "        fill: #174EA6;\n",
              "      }\n",
              "\n",
              "      [theme=dark] .colab-df-generate {\n",
              "        background-color: #3B4455;\n",
              "        fill: #D2E3FC;\n",
              "      }\n",
              "\n",
              "      [theme=dark] .colab-df-generate:hover {\n",
              "        background-color: #434B5C;\n",
              "        box-shadow: 0px 1px 3px 1px rgba(0, 0, 0, 0.15);\n",
              "        filter: drop-shadow(0px 1px 2px rgba(0, 0, 0, 0.3));\n",
              "        fill: #FFFFFF;\n",
              "      }\n",
              "    </style>\n",
              "    <button class=\"colab-df-generate\" onclick=\"generateWithVariable('df')\"\n",
              "            title=\"Generate code using this dataframe.\"\n",
              "            style=\"display:none;\">\n",
              "\n",
              "  <svg xmlns=\"http://www.w3.org/2000/svg\" height=\"24px\"viewBox=\"0 0 24 24\"\n",
              "       width=\"24px\">\n",
              "    <path d=\"M7,19H8.4L18.45,9,17,7.55,7,17.6ZM5,21V16.75L18.45,3.32a2,2,0,0,1,2.83,0l1.4,1.43a1.91,1.91,0,0,1,.58,1.4,1.91,1.91,0,0,1-.58,1.4L9.25,21ZM18.45,9,17,7.55Zm-12,3A5.31,5.31,0,0,0,4.9,8.1,5.31,5.31,0,0,0,1,6.5,5.31,5.31,0,0,0,4.9,4.9,5.31,5.31,0,0,0,6.5,1,5.31,5.31,0,0,0,8.1,4.9,5.31,5.31,0,0,0,12,6.5,5.46,5.46,0,0,0,6.5,12Z\"/>\n",
              "  </svg>\n",
              "    </button>\n",
              "    <script>\n",
              "      (() => {\n",
              "      const buttonEl =\n",
              "        document.querySelector('#id_83722e98-dfaa-4576-a78b-4cde10fc429e button.colab-df-generate');\n",
              "      buttonEl.style.display =\n",
              "        google.colab.kernel.accessAllowed ? 'block' : 'none';\n",
              "\n",
              "      buttonEl.onclick = () => {\n",
              "        google.colab.notebook.generateWithVariable('df');\n",
              "      }\n",
              "      })();\n",
              "    </script>\n",
              "  </div>\n",
              "\n",
              "    </div>\n",
              "  </div>\n"
            ],
            "application/vnd.google.colaboratory.intrinsic+json": {
              "type": "dataframe",
              "variable_name": "df",
              "summary": "{\n  \"name\": \"df\",\n  \"rows\": 10,\n  \"fields\": [\n    {\n      \"column\": \"Comunicacao\",\n      \"properties\": {\n        \"dtype\": \"number\",\n        \"std\": 1,\n        \"min\": 3,\n        \"max\": 7,\n        \"num_unique_values\": 5,\n        \"samples\": [\n          4,\n          7,\n          5\n        ],\n        \"semantic_type\": \"\",\n        \"description\": \"\"\n      }\n    },\n    {\n      \"column\": \"Complexidade_Tecnica\",\n      \"properties\": {\n        \"dtype\": \"number\",\n        \"std\": 1,\n        \"min\": 5,\n        \"max\": 9,\n        \"num_unique_values\": 5,\n        \"samples\": [\n          8,\n          5,\n          6\n        ],\n        \"semantic_type\": \"\",\n        \"description\": \"\"\n      }\n    },\n    {\n      \"column\": \"Inovacao\",\n      \"properties\": {\n        \"dtype\": \"number\",\n        \"std\": 0,\n        \"min\": 3,\n        \"max\": 6,\n        \"num_unique_values\": 4,\n        \"samples\": [\n          4,\n          6,\n          5\n        ],\n        \"semantic_type\": \"\",\n        \"description\": \"\"\n      }\n    },\n    {\n      \"column\": \"Revisoes\",\n      \"properties\": {\n        \"dtype\": \"number\",\n        \"std\": 1,\n        \"min\": 1,\n        \"max\": 4,\n        \"num_unique_values\": 4,\n        \"samples\": [\n          2,\n          4,\n          1\n        ],\n        \"semantic_type\": \"\",\n        \"description\": \"\"\n      }\n    },\n    {\n      \"column\": \"Satisfacao_Cliente\",\n      \"properties\": {\n        \"dtype\": \"number\",\n        \"std\": 7,\n        \"min\": 70,\n        \"max\": 95,\n        \"num_unique_values\": 6,\n        \"samples\": [\n          75,\n          80,\n          95\n        ],\n        \"semantic_type\": \"\",\n        \"description\": \"\"\n      }\n    }\n  ]\n}"
            }
          },
          "metadata": {},
          "execution_count": 17
        }
      ]
    },
    {
      "cell_type": "markdown",
      "source": [
        "Criamos um conjunto de dados fictício em forma de dicionário com 5 variáveis:\n",
        "- **Comunicacao**\n",
        "- **Complexidade_Tecnica**\n",
        "- **Inovacao**\n",
        "- **Revisoes**\n",
        "- **Satisfacao_Cliente**\n",
        "\n",
        "Em seguida, transformamos esse dicionário em um DataFrame usando o pandas, o que nos permite manipular esses dados de forma tabular."
      ],
      "metadata": {
        "id": "vA7z-J071uQt"
      },
      "id": "vA7z-J071uQt"
    },
    {
      "cell_type": "markdown",
      "source": [
        "## Definindo Variáveis Independentes e Dependente\n"
      ],
      "metadata": {
        "id": "QG_kWJv21l5B"
      },
      "id": "QG_kWJv21l5B"
    },
    {
      "cell_type": "code",
      "source": [
        "X = df[['Comunicacao', 'Complexidade_Tecnica', 'Inovacao', 'Revisoes']]\n",
        "y = df['Satisfacao_Cliente']"
      ],
      "metadata": {
        "id": "hCqCDbfD1mB5"
      },
      "id": "hCqCDbfD1mB5",
      "execution_count": 18,
      "outputs": []
    },
    {
      "cell_type": "markdown",
      "source": [
        "- **X**: Conjunto de variáveis independentes (fatores que podem influenciar a satisfação do cliente).\n",
        "- **y**: Variável dependente (a satisfação do cliente que queremos prever)."
      ],
      "metadata": {
        "id": "EhPkfJmk1mKQ"
      },
      "id": "EhPkfJmk1mKQ"
    },
    {
      "cell_type": "markdown",
      "source": [
        "## Dividindo os Dados em Conjuntos de Treino e Teste"
      ],
      "metadata": {
        "id": "DRAaQGb81dDu"
      },
      "id": "DRAaQGb81dDu"
    },
    {
      "cell_type": "code",
      "source": [
        "X_train, X_test, y_train, y_test = train_test_split(X, y, test_size=0.2, random_state=0)"
      ],
      "metadata": {
        "id": "hUvI9gHM1dO8"
      },
      "id": "hUvI9gHM1dO8",
      "execution_count": 19,
      "outputs": []
    },
    {
      "cell_type": "markdown",
      "source": [
        "Dividimos os dados em dois conjuntos:\n",
        "- **Conjunto de Treino (80%)**: Usado para treinar o modelo.\n",
        "- **Conjunto de Teste (20%)**: Usado para testar a performance do modelo."
      ],
      "metadata": {
        "id": "le5_MAKq1dYk"
      },
      "id": "le5_MAKq1dYk"
    },
    {
      "cell_type": "markdown",
      "source": [
        "## Criando e Treinando o Modelo de Regressão Linear\n",
        "\n"
      ],
      "metadata": {
        "id": "57ZfMCjK1VKy"
      },
      "id": "57ZfMCjK1VKy"
    },
    {
      "cell_type": "code",
      "source": [
        "model = LinearRegression()\n",
        "model.fit(X_train, y_train)"
      ],
      "metadata": {
        "colab": {
          "base_uri": "https://localhost:8080/",
          "height": 74
        },
        "id": "44_Rf8J41Vgo",
        "outputId": "5c23a604-64e3-4e08-bcbb-78816930f6b3"
      },
      "id": "44_Rf8J41Vgo",
      "execution_count": 20,
      "outputs": [
        {
          "output_type": "execute_result",
          "data": {
            "text/plain": [
              "LinearRegression()"
            ],
            "text/html": [
              "<style>#sk-container-id-3 {color: black;background-color: white;}#sk-container-id-3 pre{padding: 0;}#sk-container-id-3 div.sk-toggleable {background-color: white;}#sk-container-id-3 label.sk-toggleable__label {cursor: pointer;display: block;width: 100%;margin-bottom: 0;padding: 0.3em;box-sizing: border-box;text-align: center;}#sk-container-id-3 label.sk-toggleable__label-arrow:before {content: \"▸\";float: left;margin-right: 0.25em;color: #696969;}#sk-container-id-3 label.sk-toggleable__label-arrow:hover:before {color: black;}#sk-container-id-3 div.sk-estimator:hover label.sk-toggleable__label-arrow:before {color: black;}#sk-container-id-3 div.sk-toggleable__content {max-height: 0;max-width: 0;overflow: hidden;text-align: left;background-color: #f0f8ff;}#sk-container-id-3 div.sk-toggleable__content pre {margin: 0.2em;color: black;border-radius: 0.25em;background-color: #f0f8ff;}#sk-container-id-3 input.sk-toggleable__control:checked~div.sk-toggleable__content {max-height: 200px;max-width: 100%;overflow: auto;}#sk-container-id-3 input.sk-toggleable__control:checked~label.sk-toggleable__label-arrow:before {content: \"▾\";}#sk-container-id-3 div.sk-estimator input.sk-toggleable__control:checked~label.sk-toggleable__label {background-color: #d4ebff;}#sk-container-id-3 div.sk-label input.sk-toggleable__control:checked~label.sk-toggleable__label {background-color: #d4ebff;}#sk-container-id-3 input.sk-hidden--visually {border: 0;clip: rect(1px 1px 1px 1px);clip: rect(1px, 1px, 1px, 1px);height: 1px;margin: -1px;overflow: hidden;padding: 0;position: absolute;width: 1px;}#sk-container-id-3 div.sk-estimator {font-family: monospace;background-color: #f0f8ff;border: 1px dotted black;border-radius: 0.25em;box-sizing: border-box;margin-bottom: 0.5em;}#sk-container-id-3 div.sk-estimator:hover {background-color: #d4ebff;}#sk-container-id-3 div.sk-parallel-item::after {content: \"\";width: 100%;border-bottom: 1px solid gray;flex-grow: 1;}#sk-container-id-3 div.sk-label:hover label.sk-toggleable__label {background-color: #d4ebff;}#sk-container-id-3 div.sk-serial::before {content: \"\";position: absolute;border-left: 1px solid gray;box-sizing: border-box;top: 0;bottom: 0;left: 50%;z-index: 0;}#sk-container-id-3 div.sk-serial {display: flex;flex-direction: column;align-items: center;background-color: white;padding-right: 0.2em;padding-left: 0.2em;position: relative;}#sk-container-id-3 div.sk-item {position: relative;z-index: 1;}#sk-container-id-3 div.sk-parallel {display: flex;align-items: stretch;justify-content: center;background-color: white;position: relative;}#sk-container-id-3 div.sk-item::before, #sk-container-id-3 div.sk-parallel-item::before {content: \"\";position: absolute;border-left: 1px solid gray;box-sizing: border-box;top: 0;bottom: 0;left: 50%;z-index: -1;}#sk-container-id-3 div.sk-parallel-item {display: flex;flex-direction: column;z-index: 1;position: relative;background-color: white;}#sk-container-id-3 div.sk-parallel-item:first-child::after {align-self: flex-end;width: 50%;}#sk-container-id-3 div.sk-parallel-item:last-child::after {align-self: flex-start;width: 50%;}#sk-container-id-3 div.sk-parallel-item:only-child::after {width: 0;}#sk-container-id-3 div.sk-dashed-wrapped {border: 1px dashed gray;margin: 0 0.4em 0.5em 0.4em;box-sizing: border-box;padding-bottom: 0.4em;background-color: white;}#sk-container-id-3 div.sk-label label {font-family: monospace;font-weight: bold;display: inline-block;line-height: 1.2em;}#sk-container-id-3 div.sk-label-container {text-align: center;}#sk-container-id-3 div.sk-container {/* jupyter's `normalize.less` sets `[hidden] { display: none; }` but bootstrap.min.css set `[hidden] { display: none !important; }` so we also need the `!important` here to be able to override the default hidden behavior on the sphinx rendered scikit-learn.org. See: https://github.com/scikit-learn/scikit-learn/issues/21755 */display: inline-block !important;position: relative;}#sk-container-id-3 div.sk-text-repr-fallback {display: none;}</style><div id=\"sk-container-id-3\" class=\"sk-top-container\"><div class=\"sk-text-repr-fallback\"><pre>LinearRegression()</pre><b>In a Jupyter environment, please rerun this cell to show the HTML representation or trust the notebook. <br />On GitHub, the HTML representation is unable to render, please try loading this page with nbviewer.org.</b></div><div class=\"sk-container\" hidden><div class=\"sk-item\"><div class=\"sk-estimator sk-toggleable\"><input class=\"sk-toggleable__control sk-hidden--visually\" id=\"sk-estimator-id-3\" type=\"checkbox\" checked><label for=\"sk-estimator-id-3\" class=\"sk-toggleable__label sk-toggleable__label-arrow\">LinearRegression</label><div class=\"sk-toggleable__content\"><pre>LinearRegression()</pre></div></div></div></div></div>"
            ]
          },
          "metadata": {},
          "execution_count": 20
        }
      ]
    },
    {
      "cell_type": "markdown",
      "source": [
        "1. Criamos um objeto do modelo de regressão linear.\n",
        "2. Treinamos o modelo usando o conjunto de treino (X_train e y_train)."
      ],
      "metadata": {
        "id": "ejrEKEqU1Vqw"
      },
      "id": "ejrEKEqU1Vqw"
    },
    {
      "cell_type": "markdown",
      "source": [
        "## Realizando Predições com o Conjunto de Teste"
      ],
      "metadata": {
        "id": "ByJMiJ2TnNxm"
      },
      "id": "ByJMiJ2TnNxm"
    },
    {
      "cell_type": "code",
      "source": [
        "y_pred = model.predict(X_test)"
      ],
      "metadata": {
        "id": "kvM2mvW2nPpW"
      },
      "id": "kvM2mvW2nPpW",
      "execution_count": 21,
      "outputs": []
    },
    {
      "cell_type": "markdown",
      "source": [
        "Usamos o modelo treinado para fazer previsões sobre o conjunto de teste."
      ],
      "metadata": {
        "id": "N3uxn_EVnRwN"
      },
      "id": "N3uxn_EVnRwN"
    },
    {
      "cell_type": "markdown",
      "source": [
        "## Calculando o Erro Quadrático Médio"
      ],
      "metadata": {
        "id": "NXfwjjgGnEew"
      },
      "id": "NXfwjjgGnEew"
    },
    {
      "cell_type": "code",
      "source": [
        "mse = mean_squared_error(y_test, y_pred)"
      ],
      "metadata": {
        "id": "12pcH0sLnDOQ"
      },
      "id": "12pcH0sLnDOQ",
      "execution_count": 22,
      "outputs": []
    },
    {
      "cell_type": "markdown",
      "source": [
        "O erro quadrático médio (MSE) mede a média dos quadrados dos erros, ou seja, a média das diferenças quadradas entre os valores previstos e os valores reais. Quanto menor o MSE, melhor o modelo.\n"
      ],
      "metadata": {
        "id": "MaLTjNFUnG2c"
      },
      "id": "MaLTjNFUnG2c"
    },
    {
      "cell_type": "markdown",
      "source": [
        "## Resultados"
      ],
      "metadata": {
        "id": "kZsccyILm9Qz"
      },
      "id": "kZsccyILm9Qz"
    },
    {
      "cell_type": "code",
      "source": [
        "# Resultados\n",
        "coeficientes = model.coef_\n",
        "intercepto = model.intercept_\n",
        "mse, coeficientes, intercepto\n",
        "\n",
        "# Exibindo os resultados\n",
        "print(\"Erro Quadrático Médio (MSE):\", mse)\n",
        "print(\"Coeficientes das Variáveis Independentes:\", coeficientes)\n",
        "print(\"Intercepto:\", intercepto)\n",
        "\n",
        "# Gerando labels das categorias\n",
        "categories = ['Comunicacao', 'Complexidade_Tecnica', 'Inovacao', 'Revisoes']\n",
        "labels = ['Categoria {}'.format(i+1) for i in range(len(categories))]\n",
        "\n",
        "# Plotando os coeficientes das variáveis independentes\n",
        "plt.figure(figsize=(10, 6))\n",
        "plt.bar(labels, coeficientes)\n",
        "plt.xlabel('Categorias')\n",
        "plt.ylabel('Coeficientes')\n",
        "plt.title('Coeficientes das Variáveis Independentes')\n",
        "plt.show()\n"
      ],
      "metadata": {
        "colab": {
          "base_uri": "https://localhost:8080/",
          "height": 617
        },
        "id": "VALoyCa7mwO8",
        "outputId": "d81350a2-cb44-4733-a26f-e6135e81ebef"
      },
      "id": "VALoyCa7mwO8",
      "execution_count": 24,
      "outputs": [
        {
          "output_type": "stream",
          "name": "stdout",
          "text": [
            "Erro Quadrático Médio (MSE): 9.933388394139559\n",
            "Coeficientes das Variáveis Independentes: [1.10169492 0.33898305 3.00847458 5.38135593]\n",
            "Intercepto: 48.38983050847459\n"
          ]
        },
        {
          "output_type": "display_data",
          "data": {
            "text/plain": [
              "<Figure size 1000x600 with 1 Axes>"
            ],
            "image/png": "[encoded data removed]"
          },
          "metadata": {}
        }
      ]
    },
    {
      "cell_type": "markdown",
      "source": [
        "## Explicação Detalhada"
      ],
      "metadata": {
        "id": "JcRdu5ghm3po"
      },
      "id": "JcRdu5ghm3po"
    },
    {
      "cell_type": "markdown",
      "source": [
        "1. Erro Quadrático Médio (MSE)"
      ],
      "metadata": {
        "id": "806J3ris8aHI"
      },
      "id": "806J3ris8aHI"
    },
    {
      "cell_type": "code",
      "source": [
        "print(\"Erro Quadrático Médio (MSE):\", mse)"
      ],
      "metadata": {
        "colab": {
          "base_uri": "https://localhost:8080/"
        },
        "id": "Qca2c8DN8Qx3",
        "outputId": "b96edee1-3cde-4d39-d35f-e05bc6324392"
      },
      "id": "Qca2c8DN8Qx3",
      "execution_count": 25,
      "outputs": [
        {
          "output_type": "stream",
          "name": "stdout",
          "text": [
            "Erro Quadrático Médio (MSE): 9.933388394139559\n"
          ]
        }
      ]
    },
    {
      "cell_type": "markdown",
      "source": [
        "Erro Quadrático Médio (MSE): Esta métrica nos diz a média dos quadrados das diferenças entre os valores previstos pelo modelo e os valores reais. É uma medida de quão bem o modelo está se saindo. Um valor menor de MSE indica um modelo melhor."
      ],
      "metadata": {
        "id": "6kSMUOW28SoE"
      },
      "id": "6kSMUOW28SoE"
    },
    {
      "cell_type": "markdown",
      "source": [
        "2. Coeficientes das Variáveis Independentes"
      ],
      "metadata": {
        "id": "DiRE4bvm8Ude"
      },
      "id": "DiRE4bvm8Ude"
    },
    {
      "cell_type": "code",
      "source": [
        "print(\"Coeficientes das Variáveis Independentes:\", coeficientes)"
      ],
      "metadata": {
        "colab": {
          "base_uri": "https://localhost:8080/"
        },
        "id": "Yx140L0l8jk2",
        "outputId": "e510fa56-e55d-4435-a852-a790272841e8"
      },
      "id": "Yx140L0l8jk2",
      "execution_count": 26,
      "outputs": [
        {
          "output_type": "stream",
          "name": "stdout",
          "text": [
            "Coeficientes das Variáveis Independentes: [1.10169492 0.33898305 3.00847458 5.38135593]\n"
          ]
        }
      ]
    },
    {
      "cell_type": "markdown",
      "source": [
        "Coeficientes: Os coeficientes indicam a importância de cada variável independente na predição da variável dependente. Por exemplo, se o coeficiente de 'Comunicacao' for 2, isso significa que para cada aumento unitário na 'Comunicacao', a 'Satisfacao_Cliente' aumenta em 2 unidades, assumindo que todas as outras variáveis permanecem constantes."
      ],
      "metadata": {
        "id": "uRpkJII78mNd"
      },
      "id": "uRpkJII78mNd"
    },
    {
      "cell_type": "markdown",
      "source": [
        "3. Intercepto"
      ],
      "metadata": {
        "id": "1Nq1AOL58sSz"
      },
      "id": "1Nq1AOL58sSz"
    },
    {
      "cell_type": "code",
      "source": [
        "print(\"Intercepto:\", intercepto)"
      ],
      "metadata": {
        "colab": {
          "base_uri": "https://localhost:8080/"
        },
        "id": "fVdu-toO8tOh",
        "outputId": "2449c3a0-4281-467d-d208-4d8ce400180d"
      },
      "id": "fVdu-toO8tOh",
      "execution_count": 27,
      "outputs": [
        {
          "output_type": "stream",
          "name": "stdout",
          "text": [
            "Intercepto: 48.38983050847459\n"
          ]
        }
      ]
    },
    {
      "cell_type": "markdown",
      "source": [
        "Intercepto: Este é o valor de 'Satisfacao_Cliente' quando todas as variáveis independentes são zero. Representa o ponto de partida da regressão linear."
      ],
      "metadata": {
        "id": "35d--N7b8xhE"
      },
      "id": "35d--N7b8xhE"
    },
    {
      "cell_type": "markdown",
      "source": [
        "Plotando os Coeficientes"
      ],
      "metadata": {
        "id": "-LzWq1in8yLT"
      },
      "id": "-LzWq1in8yLT"
    },
    {
      "cell_type": "code",
      "source": [
        "# Gerando labels das categorias\n",
        "categories = ['Comunicacao', 'Complexidade_Tecnica', 'Inovacao', 'Revisoes']\n",
        "labels = ['Categoria {}'.format(i+1) for i in range(len(categories))]\n",
        "\n",
        "# Plotando os coeficientes das variáveis independentes\n",
        "plt.figure(figsize=(10, 6))\n",
        "plt.bar(labels, coeficientes)\n",
        "plt.xlabel('Categorias')\n",
        "plt.ylabel('Coeficientes')\n",
        "plt.title('Coeficientes das Variáveis Independentes')\n",
        "plt.show()"
      ],
      "metadata": {
        "colab": {
          "base_uri": "https://localhost:8080/",
          "height": 565
        },
        "id": "_jcMm7SV8zaP",
        "outputId": "9112ce73-be5c-43f1-b67a-a77451e7887b"
      },
      "id": "_jcMm7SV8zaP",
      "execution_count": 30,
      "outputs": [
        {
          "output_type": "display_data",
          "data": {
            "text/plain": [
              "<Figure size 1000x600 with 1 Axes>"
            ],
            "image/png": "[encoded data removed]"
          },
          "metadata": {}
        }
      ]
    },
    {
      "cell_type": "markdown",
      "source": [
        "Gráfico de Barras: Este gráfico mostra visualmente os coeficientes das variáveis independentes. O eixo x exibe os labels das categorias (variáveis independentes), e o eixo y exibe os coeficientes correspondentes. Isso ajuda a entender qual variável tem mais impacto na predição da satisfação do cliente."
      ],
      "metadata": {
        "id": "a2Z5POFe84xu"
      },
      "id": "a2Z5POFe84xu"
    },
    {
      "cell_type": "markdown",
      "source": [
        "## Resumo\n",
        "\n",
        "Esse código cria um modelo de regressão linear para prever a satisfação do cliente com base em fatores como comunicação, complexidade técnica, inovação e revisões. Dividimos os dados em treino e teste, treinamos o modelo com os dados de treino, fizemos previsões com os dados de teste e avaliamos a precisão do modelo usando o MSE."
      ],
      "metadata": {
        "id": "QURuNH-MmxMi"
      },
      "id": "QURuNH-MmxMi"
    }
  ],
  "metadata": {
    "colab": {
      "provenance": [],
      "include_colab_link": true
    },
    "language_info": {
      "name": "python"
    },
    "kernelspec": {
      "name": "python3",
      "display_name": "Python 3"
    }
  },
  "nbformat": 4,
  "nbformat_minor": 5
}